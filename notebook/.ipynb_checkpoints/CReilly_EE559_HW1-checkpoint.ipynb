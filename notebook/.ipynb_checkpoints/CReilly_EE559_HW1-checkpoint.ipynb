{
 "cells": [
  {
   "cell_type": "code",
   "execution_count": 1,
   "id": "a5c623da",
   "metadata": {},
   "outputs": [],
   "source": [
    "# EE559 HW 1\n",
    "# Author : Creed Wallace Reilly\n",
    "# Date: 05/31/2021"
   ]
  },
  {
   "cell_type": "code",
   "execution_count": 2,
   "id": "72e8e8eb",
   "metadata": {},
   "outputs": [],
   "source": [
    "# Package Initialization\n",
    "import numpy as np\n",
    "import pandas as pd\n",
    "import matplotlib.pyplot as plt"
   ]
  },
  {
   "cell_type": "code",
   "execution_count": 33,
   "id": "c7b9d34c",
   "metadata": {},
   "outputs": [
    {
     "name": "stdout",
     "output_type": "stream",
     "text": [
      "   Person  Height  Weight\n",
      "0       1     171      80\n",
      "1       2     168      78\n",
      "2       3     191     100\n",
      "3       4     182      80\n",
      "4       5     150      65\n",
      "5       6     178      83\n",
      "\n",
      "Test Pairs, KNN =  3 \n",
      "\n",
      "[ 150  cm ,  74.33  kg]\n",
      "[ 155  cm ,  74.33  kg]\n",
      "[ 165  cm ,  80.33  kg]\n",
      "[ 190  cm ,  87.67  kg]\n"
     ]
    }
   ],
   "source": [
    "# Question 1 - KNN\n",
    "\n",
    "# Define sample array & input\n",
    "sample_heights = np.array([150,155,165,190])\n",
    "knn = 3;\n",
    "\n",
    "# sample_heights = np.array([171,168,191,182,150,178]) \n",
    "# knn = 1; # Debugging - if I input heights and put k = 1, I should get weight exactly...\n",
    "\n",
    "d = {'Person': [1,2,3,4,5,6], 'Height':[171,168,191,182,150,178], 'Weight':[80,78,100,80,65,83]} # height in cm, weight in kg\n",
    "q1DF = pd.DataFrame(data=d) # create DataFrame for training data\n",
    "print(q1DF) # print for verification that data input is correct\n",
    "\n",
    "print('\\nTest Pairs, KNN = ', knn, '\\n')\n",
    "\n",
    "# Calculate KNN for each sample\n",
    "l = len(q1DF['Height']) # define length of the training DataFrame\n",
    "k = np.arange(knn); # define k closest neighbors we want to use\n",
    "increment = np.arange(len(sample_heights)) # create array for array index for for loop below\n",
    "weight_est = np.zeros(len(sample_heights)) # create array to capture weight estimates\n",
    "\n",
    "for i in increment: # for loop for all samples\n",
    "    neighbors = np.array(abs(q1DF['Height']-sample_heights[i]).sort_values())\n",
    "    y = 0 # define scalar sum for y1+...+yk, reinitialize for each sample\n",
    "    \n",
    "    for j in k: # find the k closest neighbors\n",
    "        y = y + float(q1DF.loc[abs(q1DF['Height']-sample_heights[i]) == neighbors[j]]['Weight']) # calculate sum(y1...yk)\n",
    "        \n",
    "    weight_est[i] = y/len(k) # calculate the estimated weight for each sample height\n",
    "    print('[', sample_heights[i], ' cm , ', round(weight_est[i],2), ' kg]')"
   ]
  },
  {
   "cell_type": "code",
   "execution_count": 82,
   "id": "b7fd29b4",
   "metadata": {},
   "outputs": [
    {
     "data": {
      "image/png": "[encoded data removed]",
      "text/plain": [
       "<Figure size 432x288 with 1 Axes>"
      ]
     },
     "metadata": {
      "needs_background": "light"
     },
     "output_type": "display_data"
    }
   ],
   "source": [
    "# Question 1 - Plotting the Data\n",
    "\n",
    "x = np.array(q1DF['Height'])\n",
    "y = np.array(q1DF['Weight'])\n",
    "plt.scatter(x,y,c='black')\n",
    "\n",
    "plt.scatter(sample_heights,weight_est,c='red');\n",
    "title = 'KNN Simple Average, k = ' + str(knn) \n",
    "plt.title(title); # Define plot title\n",
    "plt.xlabel('Height [cm]'); # X Axis label\n",
    "plt.ylabel('Weight [cm]'); # Y Axis label\n",
    "plt.legend(['Training Data','Test Data'],loc='lower right'); # Legend label & coloring\n"
   ]
  },
  {
   "cell_type": "code",
   "execution_count": 83,
   "id": "2256be21",
   "metadata": {},
   "outputs": [
    {
     "name": "stdout",
     "output_type": "stream",
     "text": [
      "[ 150  cm ,  nan  kg]\n",
      "[ 155  cm ,  70.71  kg]\n",
      "[ 165  cm ,  79.24  kg]\n",
      "[ 190  cm ,  96.76  kg]\n"
     ]
    },
    {
     "name": "stderr",
     "output_type": "stream",
     "text": [
      "<ipython-input-83-457a63571079>:17: RuntimeWarning: divide by zero encountered in longlong_scalars\n",
      "  y = y + (1/neighbors[j])*float(q1DF.loc[abs(q1DF['Height']-sample_heights[i]) == neighbors[j]]['Weight']) # calculate sum(y1...yk)\n",
      "<ipython-input-83-457a63571079>:18: RuntimeWarning: divide by zero encountered in longlong_scalars\n",
      "  w = w + (1/neighbors[j]) # calculate sum(w1...wk)\n",
      "<ipython-input-83-457a63571079>:20: RuntimeWarning: invalid value encountered in double_scalars\n",
      "  weight_est[i] = y/w # calculate the estimated weight for each sample height\n"
     ]
    }
   ],
   "source": [
    "# Question 2 - Weighted KNN\n",
    "\n",
    "# Using same dataframe, test points and KNN value from previous question\n",
    "\n",
    "# Calculate KNN for each sample\n",
    "l = len(q1DF['Height']) # define length of the training DataFrame\n",
    "k = np.arange(knn); # define k closest neighbors we want to use\n",
    "increment = np.arange(len(sample_heights)) # create array for array index for for loop below\n",
    "weight_est = np.zeros(len(sample_heights)) # create array to capture weight estimates\n",
    "\n",
    "for i in increment: # for loop for all samples\n",
    "    neighbors = np.array(abs(q1DF['Height']-sample_heights[i]).sort_values())\n",
    "    y = 0 # define scalar sum for y1+...+yk, reinitialize for each sample\n",
    "    w = 0 # define scalar sum for w1+...+wk, reinitialize for each sample\n",
    "    \n",
    "    for j in k: # find the k closest neighbors\n",
    "        y = y + (1/neighbors[j])*float(q1DF.loc[abs(q1DF['Height']-sample_heights[i]) == neighbors[j]]['Weight']) # calculate sum(y1...yk)\n",
    "        w = w + (1/neighbors[j]) # calculate sum(w1...wk)\n",
    "        \n",
    "    weight_est[i] = y/w # calculate the estimated weight for each sample height\n",
    "    print('[', sample_heights[i], ' cm , ', round(weight_est[i],2), ' kg]')"
   ]
  },
  {
   "cell_type": "code",
   "execution_count": null,
   "id": "6d37e305",
   "metadata": {},
   "outputs": [],
   "source": []
  },
  {
   "cell_type": "code",
   "execution_count": null,
   "id": "15f33821",
   "metadata": {},
   "outputs": [],
   "source": []
  }
 ],
 "metadata": {
  "kernelspec": {
   "display_name": "Python 3",
   "language": "python",
   "name": "python3"
  },
  "language_info": {
   "codemirror_mode": {
    "name": "ipython",
    "version": 3
   },
   "file_extension": ".py",
   "mimetype": "text/x-python",
   "name": "python",
   "nbconvert_exporter": "python",
   "pygments_lexer": "ipython3",
   "version": "3.8.8"
  }
 },
 "nbformat": 4,
 "nbformat_minor": 5
}
